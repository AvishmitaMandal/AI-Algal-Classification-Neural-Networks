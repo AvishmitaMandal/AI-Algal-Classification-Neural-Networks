{
  "nbformat": 4,
  "nbformat_minor": 0,
  "metadata": {
    "colab": {
      "provenance": [],
      "gpuType": "T4"
    },
    "kernelspec": {
      "name": "python3",
      "display_name": "Python 3"
    },
    "language_info": {
      "name": "python"
    },
    "accelerator": "GPU"
  },
  "cells": [
    {
      "cell_type": "code",
      "source": [
        "from google.colab import drive\n",
        "drive.mount('/content/drive')"
      ],
      "metadata": {
        "colab": {
          "base_uri": "https://localhost:8080/"
        },
        "id": "9o9zl94ZHkQU",
        "outputId": "1e8ca232-715b-4550-c653-f388b91da1e5"
      },
      "execution_count": 2,
      "outputs": [
        {
          "output_type": "stream",
          "name": "stdout",
          "text": [
            "Drive already mounted at /content/drive; to attempt to forcibly remount, call drive.mount(\"/content/drive\", force_remount=True).\n"
          ]
        }
      ]
    },
    {
      "cell_type": "code",
      "source": [
        "!pip install tensorflow-addons\n"
      ],
      "metadata": {
        "colab": {
          "base_uri": "https://localhost:8080/"
        },
        "id": "rHazKfjsARb3",
        "outputId": "c73cd4ee-5821-4cde-a1f8-eefea90f38f8"
      },
      "execution_count": 1,
      "outputs": [
        {
          "output_type": "stream",
          "name": "stdout",
          "text": [
            "Requirement already satisfied: tensorflow-addons in /usr/local/lib/python3.10/dist-packages (0.23.0)\n",
            "Requirement already satisfied: packaging in /usr/local/lib/python3.10/dist-packages (from tensorflow-addons) (24.0)\n",
            "Requirement already satisfied: typeguard<3.0.0,>=2.7 in /usr/local/lib/python3.10/dist-packages (from tensorflow-addons) (2.13.3)\n"
          ]
        }
      ]
    },
    {
      "cell_type": "code",
      "execution_count": 2,
      "metadata": {
        "colab": {
          "base_uri": "https://localhost:8080/"
        },
        "id": "ONqwIzx9_-iN",
        "outputId": "6916c5f5-d53d-4098-84c9-522bc6c36386"
      },
      "outputs": [
        {
          "output_type": "stream",
          "name": "stderr",
          "text": [
            "/usr/local/lib/python3.10/dist-packages/tensorflow_addons/utils/tfa_eol_msg.py:23: UserWarning: \n",
            "\n",
            "TensorFlow Addons (TFA) has ended development and introduction of new features.\n",
            "TFA has entered a minimal maintenance and release mode until a planned end of life in May 2024.\n",
            "Please modify downstream libraries to take dependencies from other repositories in our TensorFlow community (e.g. Keras, Keras-CV, and Keras-NLP). \n",
            "\n",
            "For more information see: https://github.com/tensorflow/addons/issues/2807 \n",
            "\n",
            "  warnings.warn(\n"
          ]
        },
        {
          "output_type": "stream",
          "name": "stdout",
          "text": [
            "TensorFlow Version 2.15.0\n"
          ]
        }
      ],
      "source": [
        "import pandas as pd\n",
        "import numpy as np\n",
        "import tensorflow as tf\n",
        "import tensorflow_addons as tfa\n",
        "import glob, warnings\n",
        "import matplotlib.pyplot as plt\n",
        "from sklearn.metrics import confusion_matrix, classification_report\n",
        "import seaborn as sns\n",
        "\n",
        "warnings.filterwarnings('ignore')\n",
        "print('TensorFlow Version ' + tf.__version__)"
      ]
    },
    {
      "cell_type": "code",
      "source": [
        "import numpy as np\n",
        "import pandas as pd\n",
        "import seaborn as sns\n",
        "import matplotlib.pyplot as plt\n",
        "from sklearn.metrics import confusion_matrix, classification_report\n",
        "from tensorflow.keras.models import Model\n",
        "\n",
        "def generate_classification_report(model, data_generator):\n",
        "    label_dict = {\n",
        "    46:\"Peridinium\",\n",
        "    53:\"Straustrum\",\n",
        "    43:\"Ceratrium\",\n",
        "    9:\"Cyclotella\",\n",
        "    12:\"Microcystis\",\n",
        "    25:\"Pedastrium\",\n",
        "    2:\"Anabaena-coiled\",\n",
        "    44:\"Fragillaria\",\n",
        "    1:\"Anabaena\",\n",
        "    27: 'Planktothrix',\n",
        "    999: 'other'\n",
        "    }\n",
        "\n",
        "    # Ensure the generator is not shuffling data\n",
        "    data_generator.shuffle = False\n",
        "    data_generator.reset()\n",
        "\n",
        "    # Initialize lists to store true labels and predictions\n",
        "    y_true = []\n",
        "    y_pred = []\n",
        "\n",
        "    # Collect predictions and labels\n",
        "    for _ in range(len(data_generator)):\n",
        "        X_batch, y_batch = next(data_generator)\n",
        "        y_batch_pred = model.predict(X_batch)\n",
        "        y_batch_pred = np.argmax(y_batch_pred, axis=1)\n",
        "        y_batch_true = np.argmax(y_batch, axis=1)\n",
        "        y_true.extend(y_batch_true)\n",
        "        y_pred.extend(y_batch_pred)\n",
        "\n",
        "    # Calculate the confusion matrix\n",
        "    cm = confusion_matrix(y_true, y_pred)\n",
        "\n",
        "    keys = [label_dict.get(int(values), \"unknown\") for values in data_generator.class_indices.keys()]\n",
        "#     print(keys)\n",
        "#     print([values for values in data_generator.class_indices.keys()])\n",
        "    cm_df = pd.DataFrame(cm, index=keys, columns=keys)\n",
        "#     print(cm_df)\n",
        "    # Plot the confusion matrix\n",
        "    plt.figure(figsize=(10, 7))\n",
        "    sns.heatmap(cm_df, annot=True, fmt=\"d\", cmap=\"Blues\")\n",
        "    plt.title(\"Confusion Matrix\")\n",
        "    plt.xlabel(\"Predicted Label\")\n",
        "    plt.ylabel(\"True Label\")\n",
        "    plt.show()\n",
        "\n",
        "    # Calculate correct and misclassifications per class\n",
        "    print(\"\\nClass-wise Correct and Misclassified Counts:\")\n",
        "    for i, (index, row) in enumerate(cm_df.iterrows()):\n",
        "        correct = row[index]\n",
        "        misclassified = np.sum(row) - correct\n",
        "        print(f\"{index}: Correct = {correct}, Misclassified = {misclassified}\")\n",
        "\n",
        "    # Print classification report\n",
        "    print(\"\\nClassification Report:\")\n",
        "    report = classification_report(y_true, y_pred, target_names=data_generator.class_indices.keys(), zero_division=0)\n",
        "    print(report)\n",
        "\n"
      ],
      "metadata": {
        "id": "ZDPDyTk_r7xb"
      },
      "execution_count": 3,
      "outputs": []
    },
    {
      "cell_type": "code",
      "source": [
        "!pip install --quiet vit-keras\n",
        "\n",
        "from vit_keras import vit"
      ],
      "metadata": {
        "id": "MkQkbiGCAqjR"
      },
      "execution_count": 4,
      "outputs": []
    },
    {
      "cell_type": "code",
      "source": [
        "from tensorflow.keras.preprocessing.image import ImageDataGenerator\n",
        "\n",
        "# Directories\n",
        "train_dir = '/content/drive/MyDrive/top-five/train'\n",
        "validation_dir = '/content/drive/MyDrive/top-five/validation'\n",
        "test_dir = '/content/drive/MyDrive/top-five/test'\n",
        "\n",
        "# Image dimensions and batch size\n",
        "img_width, img_height = 224, 224  # Change depending on your requirements\n",
        "batch_size = 128\n",
        "\n",
        "# Data generators for loading images\n",
        "train_datagen = ImageDataGenerator(\n",
        "    rescale=1./255,\n",
        "    rotation_range=40,          # Rotate the images up to 40 degrees\n",
        "    width_shift_range=0.2,      # Shift the image width by a max of 20% of the width\n",
        "    height_shift_range=0.2,     # Shift the image height by a max of 20% of the height\n",
        "    shear_range=0.2,            # Shear means transvection, a type of deformation\n",
        "    zoom_range=0.2,             # Zoom in by 20% max\n",
        "    horizontal_flip=True,       # Allow horizontal flipping\n",
        "    fill_mode='nearest'         # Fill in missing pixels with the nearest filled value\n",
        ")\n",
        "\n",
        "validation_datagen = ImageDataGenerator(rescale=1./255)\n",
        "test_datagen = ImageDataGenerator(rescale=1./255)\n",
        "\n",
        "train_generator = train_datagen.flow_from_directory(\n",
        "    train_dir,\n",
        "    target_size=(img_width, img_height),\n",
        "    batch_size=batch_size,\n",
        "    class_mode='categorical'\n",
        ")\n",
        "\n",
        "validation_generator = validation_datagen.flow_from_directory(\n",
        "    validation_dir,\n",
        "    target_size=(img_width, img_height),\n",
        "    batch_size=batch_size,\n",
        "    class_mode='categorical'\n",
        ")\n",
        "\n",
        "test_generator = test_datagen.flow_from_directory(\n",
        "    test_dir,\n",
        "    target_size=(img_width, img_height),\n",
        "    batch_size=batch_size,\n",
        "    class_mode='categorical'\n",
        ")\n"
      ],
      "metadata": {
        "colab": {
          "base_uri": "https://localhost:8080/"
        },
        "id": "2wdUfJAJIPLT",
        "outputId": "6a18cb0c-1df6-4193-c465-dad0ec0ed938"
      },
      "execution_count": 5,
      "outputs": [
        {
          "output_type": "stream",
          "name": "stdout",
          "text": [
            "Found 1998 images belonging to 6 classes.\n",
            "Found 129 images belonging to 6 classes.\n",
            "Found 129 images belonging to 6 classes.\n"
          ]
        }
      ]
    },
    {
      "cell_type": "code",
      "source": [
        "vit_model = vit.vit_b32(\n",
        "        image_size = 224,\n",
        "        activation = 'softmax',\n",
        "        pretrained = True,\n",
        "        include_top = False,\n",
        "        pretrained_top = False,\n",
        "        classes = 6)"
      ],
      "metadata": {
        "id": "BnhlsaqeHxJx"
      },
      "execution_count": 6,
      "outputs": []
    },
    {
      "cell_type": "code",
      "source": [
        "model = tf.keras.Sequential([\n",
        "        vit_model,\n",
        "        tf.keras.layers.Flatten(),\n",
        "        tf.keras.layers.BatchNormalization(),\n",
        "        tf.keras.layers.Dense(11, activation = tfa.activations.gelu),\n",
        "        tf.keras.layers.BatchNormalization(),\n",
        "        tf.keras.layers.Dense(6, 'softmax')\n",
        "    ],\n",
        "    name = 'vision_transformer')\n",
        "\n",
        "model.summary()"
      ],
      "metadata": {
        "colab": {
          "base_uri": "https://localhost:8080/"
        },
        "id": "s3-TjBM2IxoT",
        "outputId": "c3cdb0ff-258e-4a76-c316-cdbf6ad641ab"
      },
      "execution_count": 7,
      "outputs": [
        {
          "output_type": "stream",
          "name": "stdout",
          "text": [
            "Model: \"vision_transformer\"\n",
            "_________________________________________________________________\n",
            " Layer (type)                Output Shape              Param #   \n",
            "=================================================================\n",
            " vit-b32 (Functional)        (None, 768)               87455232  \n",
            "                                                                 \n",
            " flatten (Flatten)           (None, 768)               0         \n",
            "                                                                 \n",
            " batch_normalization (Batch  (None, 768)               3072      \n",
            " Normalization)                                                  \n",
            "                                                                 \n",
            " dense (Dense)               (None, 11)                8459      \n",
            "                                                                 \n",
            " batch_normalization_1 (Bat  (None, 11)                44        \n",
            " chNormalization)                                                \n",
            "                                                                 \n",
            " dense_1 (Dense)             (None, 6)                 72        \n",
            "                                                                 \n",
            "=================================================================\n",
            "Total params: 87466879 (333.66 MB)\n",
            "Trainable params: 87465321 (333.65 MB)\n",
            "Non-trainable params: 1558 (6.09 KB)\n",
            "_________________________________________________________________\n"
          ]
        }
      ]
    },
    {
      "cell_type": "code",
      "source": [
        "learning_rate = 1e-4\n",
        "\n",
        "optimizer = tfa.optimizers.RectifiedAdam(learning_rate = 0.001)\n",
        "\n",
        "model.compile(optimizer = optimizer,\n",
        "              loss = tf.keras.losses.CategoricalCrossentropy(label_smoothing = 0.2),\n",
        "              metrics = ['accuracy'])"
      ],
      "metadata": {
        "id": "BI5HqEfqI24D"
      },
      "execution_count": 8,
      "outputs": []
    },
    {
      "cell_type": "code",
      "source": [
        "STEP_SIZE_TRAIN = train_generator.n // train_generator.batch_size\n",
        "STEP_SIZE_VALID = validation_generator.n // validation_generator.batch_size\n"
      ],
      "metadata": {
        "id": "kHqRYBMPJXyq"
      },
      "execution_count": 9,
      "outputs": []
    },
    {
      "cell_type": "code",
      "source": [
        "reduce_lr = tf.keras.callbacks.ReduceLROnPlateau(monitor = 'val_accuracy',\n",
        "                                                 factor = 0.2,\n",
        "                                                 patience = 2,\n",
        "                                                 verbose = 1,\n",
        "                                                 min_delta = 1e-4,\n",
        "                                                 min_lr = 1e-6,\n",
        "                                                 mode = 'max')\n",
        "\n",
        "earlystopping = tf.keras.callbacks.EarlyStopping(monitor = 'val_accuracy',\n",
        "                                                 min_delta = 1e-4,\n",
        "                                                 patience = 5,\n",
        "                                                 mode = 'max',\n",
        "                                                 restore_best_weights = True,\n",
        "                                                 verbose = 1)\n",
        "\n",
        "checkpointer = tf.keras.callbacks.ModelCheckpoint(filepath = './model.hdf5',\n",
        "                                                  monitor = 'val_accuracy',\n",
        "                                                  verbose = 1,\n",
        "                                                  save_best_only = True,\n",
        "                                                  save_weights_only = True,\n",
        "                                                  mode = 'max')\n",
        "\n",
        "callbacks = [earlystopping, reduce_lr, checkpointer]"
      ],
      "metadata": {
        "id": "yKQubq9-JoMi"
      },
      "execution_count": 10,
      "outputs": []
    },
    {
      "cell_type": "code",
      "source": [
        "\n",
        "history = model.fit(x = train_generator,\n",
        "          steps_per_epoch = STEP_SIZE_TRAIN,\n",
        "          validation_data = validation_generator,\n",
        "          validation_steps = STEP_SIZE_VALID,\n",
        "          epochs = 20,\n",
        "          callbacks = callbacks)\n"
      ],
      "metadata": {
        "colab": {
          "base_uri": "https://localhost:8080/"
        },
        "id": "p365KW-DJK7y",
        "outputId": "26d99088-ba90-4b3e-b6a9-d378cd4c5fb5"
      },
      "execution_count": 11,
      "outputs": [
        {
          "output_type": "stream",
          "name": "stdout",
          "text": [
            "Epoch 1/20\n",
            "15/15 [==============================] - ETA: 0s - loss: 1.7812 - accuracy: 0.4134\n",
            "Epoch 1: val_accuracy improved from -inf to 0.71094, saving model to ./model.hdf5\n",
            "15/15 [==============================] - 79s 3s/step - loss: 1.7812 - accuracy: 0.4134 - val_loss: 1.3091 - val_accuracy: 0.7109 - lr: 0.0010\n",
            "Epoch 2/20\n",
            "15/15 [==============================] - ETA: 0s - loss: 1.0098 - accuracy: 0.9299\n",
            "Epoch 2: val_accuracy improved from 0.71094 to 0.92969, saving model to ./model.hdf5\n",
            "15/15 [==============================] - 43s 3s/step - loss: 1.0098 - accuracy: 0.9299 - val_loss: 1.0801 - val_accuracy: 0.9297 - lr: 0.0010\n",
            "Epoch 3/20\n",
            "15/15 [==============================] - ETA: 0s - loss: 0.8949 - accuracy: 0.9674\n",
            "Epoch 3: val_accuracy improved from 0.92969 to 0.97656, saving model to ./model.hdf5\n",
            "15/15 [==============================] - 42s 3s/step - loss: 0.8949 - accuracy: 0.9674 - val_loss: 1.0171 - val_accuracy: 0.9766 - lr: 0.0010\n",
            "Epoch 4/20\n",
            "15/15 [==============================] - ETA: 0s - loss: 0.8512 - accuracy: 0.9791\n",
            "Epoch 4: val_accuracy did not improve from 0.97656\n",
            "15/15 [==============================] - 41s 3s/step - loss: 0.8512 - accuracy: 0.9791 - val_loss: 0.9740 - val_accuracy: 0.9766 - lr: 0.0010\n",
            "Epoch 5/20\n",
            "15/15 [==============================] - ETA: 0s - loss: 0.8321 - accuracy: 0.9840\n",
            "Epoch 5: ReduceLROnPlateau reducing learning rate to 0.00020000000949949026.\n",
            "\n",
            "Epoch 5: val_accuracy did not improve from 0.97656\n",
            "15/15 [==============================] - 40s 3s/step - loss: 0.8321 - accuracy: 0.9840 - val_loss: 0.9457 - val_accuracy: 0.9688 - lr: 0.0010\n",
            "Epoch 6/20\n",
            "15/15 [==============================] - ETA: 0s - loss: 0.8179 - accuracy: 0.9888\n",
            "Epoch 6: val_accuracy improved from 0.97656 to 0.98438, saving model to ./model.hdf5\n",
            "15/15 [==============================] - 41s 3s/step - loss: 0.8179 - accuracy: 0.9888 - val_loss: 0.8961 - val_accuracy: 0.9844 - lr: 2.0000e-04\n",
            "Epoch 7/20\n",
            "15/15 [==============================] - ETA: 0s - loss: 0.8157 - accuracy: 0.9893\n",
            "Epoch 7: val_accuracy did not improve from 0.98438\n",
            "15/15 [==============================] - 41s 3s/step - loss: 0.8157 - accuracy: 0.9893 - val_loss: 0.8691 - val_accuracy: 0.9844 - lr: 2.0000e-04\n",
            "Epoch 8/20\n",
            "15/15 [==============================] - ETA: 0s - loss: 0.8106 - accuracy: 0.9885\n",
            "Epoch 8: val_accuracy improved from 0.98438 to 0.99219, saving model to ./model.hdf5\n",
            "15/15 [==============================] - 42s 3s/step - loss: 0.8106 - accuracy: 0.9885 - val_loss: 0.8472 - val_accuracy: 0.9922 - lr: 2.0000e-04\n",
            "Epoch 9/20\n",
            "15/15 [==============================] - ETA: 0s - loss: 0.8048 - accuracy: 0.9936\n",
            "Epoch 9: val_accuracy did not improve from 0.99219\n",
            "15/15 [==============================] - 41s 3s/step - loss: 0.8048 - accuracy: 0.9936 - val_loss: 0.8319 - val_accuracy: 0.9922 - lr: 2.0000e-04\n",
            "Epoch 10/20\n",
            "15/15 [==============================] - ETA: 0s - loss: 0.8052 - accuracy: 0.9925\n",
            "Epoch 10: ReduceLROnPlateau reducing learning rate to 4.0000001899898055e-05.\n",
            "\n",
            "Epoch 10: val_accuracy did not improve from 0.99219\n",
            "15/15 [==============================] - 40s 3s/step - loss: 0.8052 - accuracy: 0.9925 - val_loss: 0.8228 - val_accuracy: 0.9844 - lr: 2.0000e-04\n",
            "Epoch 11/20\n",
            "15/15 [==============================] - ETA: 0s - loss: 0.8017 - accuracy: 0.9952\n",
            "Epoch 11: val_accuracy did not improve from 0.99219\n",
            "15/15 [==============================] - 40s 3s/step - loss: 0.8017 - accuracy: 0.9952 - val_loss: 0.8149 - val_accuracy: 0.9922 - lr: 4.0000e-05\n",
            "Epoch 12/20\n",
            "15/15 [==============================] - ETA: 0s - loss: 0.8011 - accuracy: 0.9930\n",
            "Epoch 12: ReduceLROnPlateau reducing learning rate to 8.000000525498762e-06.\n",
            "\n",
            "Epoch 12: val_accuracy did not improve from 0.99219\n",
            "15/15 [==============================] - 40s 3s/step - loss: 0.8011 - accuracy: 0.9930 - val_loss: 0.8092 - val_accuracy: 0.9922 - lr: 4.0000e-05\n",
            "Epoch 13/20\n",
            "15/15 [==============================] - ETA: 0s - loss: 0.7974 - accuracy: 0.9953Restoring model weights from the end of the best epoch: 8.\n",
            "\n",
            "Epoch 13: val_accuracy did not improve from 0.99219\n",
            "15/15 [==============================] - 41s 3s/step - loss: 0.7974 - accuracy: 0.9953 - val_loss: 0.8044 - val_accuracy: 0.9922 - lr: 8.0000e-06\n",
            "Epoch 13: early stopping\n"
          ]
        }
      ]
    },
    {
      "cell_type": "code",
      "source": [
        "# Evaluate the model\n",
        "test_loss, test_accuracy = model.evaluate(test_generator)\n",
        "\n",
        "# Print results\n",
        "print(\"Training Loss: {:.4f}, Training Accuracy: {:.2f}%\".format(history.history['loss'][-1], history.history['accuracy'][-1] * 100))\n",
        "print(\"Test Loss: {:.4f}, Test Accuracy: {:.2f}%\".format(test_loss, test_accuracy*100))"
      ],
      "metadata": {
        "colab": {
          "base_uri": "https://localhost:8080/"
        },
        "id": "ov2noIJjPUc5",
        "outputId": "b86711ea-7b0e-46b4-d289-b29d9753ee71"
      },
      "execution_count": 12,
      "outputs": [
        {
          "output_type": "stream",
          "name": "stdout",
          "text": [
            "2/2 [==============================] - 1s 106ms/step - loss: 0.8741 - accuracy: 0.9690\n",
            "Training Loss: 0.7974, Training Accuracy: 99.53%\n",
            "Test Loss: 0.8741, Test Accuracy: 96.90%\n"
          ]
        }
      ]
    },
    {
      "cell_type": "code",
      "source": [
        "generate_classification_report(model,test_generator)"
      ],
      "metadata": {
        "colab": {
          "base_uri": "https://localhost:8080/",
          "height": 1000
        },
        "id": "AzX9Op0ysBOt",
        "outputId": "c22a7863-fc1c-4183-b948-9918898bb713"
      },
      "execution_count": 13,
      "outputs": [
        {
          "output_type": "stream",
          "name": "stdout",
          "text": [
            "4/4 [==============================] - 2s 113ms/step\n",
            "1/1 [==============================] - 3s 3s/step\n"
          ]
        },
        {
          "output_type": "display_data",
          "data": {
            "text/plain": [
              "<Figure size 1000x700 with 2 Axes>"
            ],
            "image/png": "[encoded data removed]"
          },
          "metadata": {}
        },
        {
          "output_type": "stream",
          "name": "stdout",
          "text": [
            "\n",
            "Class-wise Correct and Misclassified Counts:\n",
            "Microcystis: Correct = 15, Misclassified = 0\n",
            "Ceratrium: Correct = 18, Misclassified = 0\n",
            "Peridinium: Correct = 24, Misclassified = 1\n",
            "Straustrum: Correct = 24, Misclassified = 0\n",
            "Cyclotella: Correct = 17, Misclassified = 0\n",
            "other: Correct = 27, Misclassified = 3\n",
            "\n",
            "Classification Report:\n",
            "              precision    recall  f1-score   support\n",
            "\n",
            "          12       0.94      1.00      0.97        15\n",
            "          43       1.00      1.00      1.00        18\n",
            "          46       0.96      0.96      0.96        25\n",
            "          53       0.92      1.00      0.96        24\n",
            "           9       1.00      1.00      1.00        17\n",
            "         999       1.00      0.90      0.95        30\n",
            "\n",
            "    accuracy                           0.97       129\n",
            "   macro avg       0.97      0.98      0.97       129\n",
            "weighted avg       0.97      0.97      0.97       129\n",
            "\n"
          ]
        }
      ]
    },
    {
      "cell_type": "code",
      "source": [
        "model.save_weights('model_weights.h5')"
      ],
      "metadata": {
        "id": "t1tjZ98lOcZy"
      },
      "execution_count": 14,
      "outputs": []
    },
    {
      "cell_type": "code",
      "source": [
        "from tensorflow.keras.preprocessing.image import ImageDataGenerator\n",
        "\n",
        "# Directories\n",
        "train_dir = '/content/drive/MyDrive/top-ten/train'\n",
        "validation_dir = '/content/drive/MyDrive/top-ten/validation'\n",
        "test_dir = '/content/drive/MyDrive/top-ten/test'\n",
        "\n",
        "# Image dimensions and batch size\n",
        "img_width, img_height = 224, 224  # Change depending on your requirements\n",
        "batch_size = 128\n",
        "\n",
        "# Data generators for loading images\n",
        "train_datagen = ImageDataGenerator(\n",
        "    rescale=1./255,\n",
        "    rotation_range=40,          # Rotate the images up to 40 degrees\n",
        "    width_shift_range=0.2,      # Shift the image width by a max of 20% of the width\n",
        "    height_shift_range=0.2,     # Shift the image height by a max of 20% of the height\n",
        "    shear_range=0.2,            # Shear means transvection, a type of deformation\n",
        "    zoom_range=0.2,             # Zoom in by 20% max\n",
        "    horizontal_flip=True,       # Allow horizontal flipping\n",
        "    fill_mode='nearest'         # Fill in missing pixels with the nearest filled value\n",
        ")\n",
        "\n",
        "validation_datagen = ImageDataGenerator(rescale=1./255)\n",
        "test_datagen = ImageDataGenerator(rescale=1./255)\n",
        "\n",
        "train_generator = train_datagen.flow_from_directory(\n",
        "    train_dir,\n",
        "    target_size=(img_width, img_height),\n",
        "    batch_size=batch_size,\n",
        "    class_mode='categorical'\n",
        ")\n",
        "\n",
        "validation_generator = validation_datagen.flow_from_directory(\n",
        "    validation_dir,\n",
        "    target_size=(img_width, img_height),\n",
        "    batch_size=batch_size,\n",
        "    class_mode='categorical'\n",
        ")\n",
        "\n",
        "test_generator = test_datagen.flow_from_directory(\n",
        "    test_dir,\n",
        "    target_size=(img_width, img_height),\n",
        "    batch_size=batch_size,\n",
        "    class_mode='categorical'\n",
        ")\n"
      ],
      "metadata": {
        "colab": {
          "base_uri": "https://localhost:8080/"
        },
        "id": "ne_jppJZnDAH",
        "outputId": "6c0600e9-88ee-4f83-f95a-e6947b8e7724"
      },
      "execution_count": 16,
      "outputs": [
        {
          "output_type": "stream",
          "name": "stdout",
          "text": [
            "Found 3386 images belonging to 11 classes.\n",
            "Found 330 images belonging to 11 classes.\n",
            "Found 330 images belonging to 11 classes.\n"
          ]
        }
      ]
    },
    {
      "cell_type": "code",
      "source": [
        "vit_model2 = vit.vit_b32(\n",
        "        image_size = 224,\n",
        "        activation = 'softmax',\n",
        "        pretrained = True,\n",
        "        include_top = False,\n",
        "        pretrained_top = False,\n",
        "        classes = 6)"
      ],
      "metadata": {
        "id": "nbl2bX5inSWp"
      },
      "execution_count": 17,
      "outputs": []
    },
    {
      "cell_type": "code",
      "source": [
        "model2 = tf.keras.Sequential([\n",
        "        vit_model2,\n",
        "        tf.keras.layers.Flatten(),\n",
        "        tf.keras.layers.BatchNormalization(),\n",
        "        tf.keras.layers.Dense(50, activation = tfa.activations.gelu),\n",
        "        tf.keras.layers.BatchNormalization(),\n",
        "        tf.keras.layers.Dense(11, 'softmax')\n",
        "    ],\n",
        "    name = 'vision_transformer')\n",
        "\n",
        "model2.summary()"
      ],
      "metadata": {
        "colab": {
          "base_uri": "https://localhost:8080/"
        },
        "id": "xRPbid14nXPx",
        "outputId": "9ca6d92a-7f9e-4ab6-a835-63330d4ecb4b"
      },
      "execution_count": 18,
      "outputs": [
        {
          "output_type": "stream",
          "name": "stdout",
          "text": [
            "Model: \"vision_transformer\"\n",
            "_________________________________________________________________\n",
            " Layer (type)                Output Shape              Param #   \n",
            "=================================================================\n",
            " vit-b32 (Functional)        (None, 768)               87455232  \n",
            "                                                                 \n",
            " flatten_1 (Flatten)         (None, 768)               0         \n",
            "                                                                 \n",
            " batch_normalization_2 (Bat  (None, 768)               3072      \n",
            " chNormalization)                                                \n",
            "                                                                 \n",
            " dense_2 (Dense)             (None, 50)                38450     \n",
            "                                                                 \n",
            " batch_normalization_3 (Bat  (None, 50)                200       \n",
            " chNormalization)                                                \n",
            "                                                                 \n",
            " dense_3 (Dense)             (None, 11)                561       \n",
            "                                                                 \n",
            "=================================================================\n",
            "Total params: 87497515 (333.78 MB)\n",
            "Trainable params: 87495879 (333.77 MB)\n",
            "Non-trainable params: 1636 (6.39 KB)\n",
            "_________________________________________________________________\n"
          ]
        }
      ]
    },
    {
      "cell_type": "code",
      "source": [
        "learning_rate = 1e-4\n",
        "\n",
        "optimizer = tfa.optimizers.RectifiedAdam(learning_rate = 0.001)\n",
        "\n",
        "model2.compile(optimizer = optimizer,\n",
        "              loss = tf.keras.losses.CategoricalCrossentropy(label_smoothing = 0.2),\n",
        "              metrics = ['accuracy'])"
      ],
      "metadata": {
        "id": "qzCZhVtTniQx"
      },
      "execution_count": 19,
      "outputs": []
    },
    {
      "cell_type": "code",
      "source": [
        "STEP_SIZE_TRAIN = train_generator.n // train_generator.batch_size\n",
        "STEP_SIZE_VALID = validation_generator.n // validation_generator.batch_size"
      ],
      "metadata": {
        "id": "vn0kGh7snkZX"
      },
      "execution_count": 20,
      "outputs": []
    },
    {
      "cell_type": "code",
      "source": [
        "reduce_lr = tf.keras.callbacks.ReduceLROnPlateau(monitor = 'val_accuracy',\n",
        "                                                 factor = 0.2,\n",
        "                                                 patience = 2,\n",
        "                                                 verbose = 1,\n",
        "                                                 min_delta = 1e-4,\n",
        "                                                 min_lr = 1e-6,\n",
        "                                                 mode = 'max')\n",
        "\n",
        "earlystopping = tf.keras.callbacks.EarlyStopping(monitor = 'val_accuracy',\n",
        "                                                 min_delta = 1e-4,\n",
        "                                                 patience = 5,\n",
        "                                                 mode = 'max',\n",
        "                                                 restore_best_weights = True,\n",
        "                                                 verbose = 1)\n",
        "\n",
        "checkpointer = tf.keras.callbacks.ModelCheckpoint(filepath = './model.hdf5',\n",
        "                                                  monitor = 'val_accuracy',\n",
        "                                                  verbose = 1,\n",
        "                                                  save_best_only = True,\n",
        "                                                  save_weights_only = True,\n",
        "                                                  mode = 'max')\n",
        "\n",
        "callbacks = [earlystopping, reduce_lr, checkpointer]"
      ],
      "metadata": {
        "id": "-q2zQqN3nrI3"
      },
      "execution_count": 21,
      "outputs": []
    },
    {
      "cell_type": "code",
      "source": [
        "history2 = model2.fit(x = train_generator,\n",
        "          steps_per_epoch = STEP_SIZE_TRAIN,\n",
        "          validation_data = validation_generator,\n",
        "          validation_steps = STEP_SIZE_VALID,\n",
        "          epochs = 20,\n",
        "          callbacks = callbacks)\n"
      ],
      "metadata": {
        "colab": {
          "base_uri": "https://localhost:8080/"
        },
        "id": "92aCw8IInuVw",
        "outputId": "a389bff9-31ff-4086-c4d7-167e75fec56d"
      },
      "execution_count": 22,
      "outputs": [
        {
          "output_type": "stream",
          "name": "stdout",
          "text": [
            "Epoch 1/20\n",
            "26/26 [==============================] - ETA: 0s - loss: 1.9702 - accuracy: 0.5427 \n",
            "Epoch 1: val_accuracy improved from -inf to 0.83984, saving model to ./model.hdf5\n",
            "26/26 [==============================] - 1156s 43s/step - loss: 1.9702 - accuracy: 0.5427 - val_loss: 1.4239 - val_accuracy: 0.8398 - lr: 0.0010\n",
            "Epoch 2/20\n",
            "26/26 [==============================] - ETA: 0s - loss: 1.1052 - accuracy: 0.9417\n",
            "Epoch 2: val_accuracy improved from 0.83984 to 0.95703, saving model to ./model.hdf5\n",
            "26/26 [==============================] - 71s 3s/step - loss: 1.1052 - accuracy: 0.9417 - val_loss: 1.1568 - val_accuracy: 0.9570 - lr: 0.0010\n",
            "Epoch 3/20\n",
            "26/26 [==============================] - ETA: 0s - loss: 1.0041 - accuracy: 0.9739\n",
            "Epoch 3: val_accuracy improved from 0.95703 to 0.98047, saving model to ./model.hdf5\n",
            "26/26 [==============================] - 70s 3s/step - loss: 1.0041 - accuracy: 0.9739 - val_loss: 1.0635 - val_accuracy: 0.9805 - lr: 0.0010\n",
            "Epoch 4/20\n",
            "26/26 [==============================] - ETA: 0s - loss: 0.9711 - accuracy: 0.9825\n",
            "Epoch 4: val_accuracy did not improve from 0.98047\n",
            "26/26 [==============================] - 71s 3s/step - loss: 0.9711 - accuracy: 0.9825 - val_loss: 1.0229 - val_accuracy: 0.9805 - lr: 0.0010\n",
            "Epoch 5/20\n",
            "26/26 [==============================] - ETA: 0s - loss: 0.9521 - accuracy: 0.9892\n",
            "Epoch 5: ReduceLROnPlateau reducing learning rate to 0.00020000000949949026.\n",
            "\n",
            "Epoch 5: val_accuracy did not improve from 0.98047\n",
            "26/26 [==============================] - 71s 3s/step - loss: 0.9521 - accuracy: 0.9892 - val_loss: 1.0153 - val_accuracy: 0.9688 - lr: 0.0010\n",
            "Epoch 6/20\n",
            "26/26 [==============================] - ETA: 0s - loss: 0.9410 - accuracy: 0.9926\n",
            "Epoch 6: val_accuracy did not improve from 0.98047\n",
            "26/26 [==============================] - 70s 3s/step - loss: 0.9410 - accuracy: 0.9926 - val_loss: 0.9905 - val_accuracy: 0.9766 - lr: 2.0000e-04\n",
            "Epoch 7/20\n",
            "26/26 [==============================] - ETA: 0s - loss: 0.9315 - accuracy: 0.9958\n",
            "Epoch 7: val_accuracy improved from 0.98047 to 0.98438, saving model to ./model.hdf5\n",
            "26/26 [==============================] - 71s 3s/step - loss: 0.9315 - accuracy: 0.9958 - val_loss: 0.9685 - val_accuracy: 0.9844 - lr: 2.0000e-04\n",
            "Epoch 8/20\n",
            "26/26 [==============================] - ETA: 0s - loss: 0.9323 - accuracy: 0.9954\n",
            "Epoch 8: val_accuracy did not improve from 0.98438\n",
            "26/26 [==============================] - 68s 3s/step - loss: 0.9323 - accuracy: 0.9954 - val_loss: 0.9643 - val_accuracy: 0.9844 - lr: 2.0000e-04\n",
            "Epoch 9/20\n",
            "26/26 [==============================] - ETA: 0s - loss: 0.9295 - accuracy: 0.9946\n",
            "Epoch 9: ReduceLROnPlateau reducing learning rate to 4.0000001899898055e-05.\n",
            "\n",
            "Epoch 9: val_accuracy did not improve from 0.98438\n",
            "26/26 [==============================] - 70s 3s/step - loss: 0.9295 - accuracy: 0.9946 - val_loss: 0.9581 - val_accuracy: 0.9766 - lr: 2.0000e-04\n",
            "Epoch 10/20\n",
            "26/26 [==============================] - ETA: 0s - loss: 0.9262 - accuracy: 0.9954\n",
            "Epoch 10: val_accuracy did not improve from 0.98438\n",
            "26/26 [==============================] - 68s 3s/step - loss: 0.9262 - accuracy: 0.9954 - val_loss: 0.9587 - val_accuracy: 0.9766 - lr: 4.0000e-05\n",
            "Epoch 11/20\n",
            "26/26 [==============================] - ETA: 0s - loss: 0.9230 - accuracy: 0.9975\n",
            "Epoch 11: ReduceLROnPlateau reducing learning rate to 8.000000525498762e-06.\n",
            "\n",
            "Epoch 11: val_accuracy did not improve from 0.98438\n",
            "26/26 [==============================] - 69s 3s/step - loss: 0.9230 - accuracy: 0.9975 - val_loss: 0.9356 - val_accuracy: 0.9844 - lr: 4.0000e-05\n",
            "Epoch 12/20\n",
            "26/26 [==============================] - ETA: 0s - loss: 0.9241 - accuracy: 0.9972Restoring model weights from the end of the best epoch: 7.\n",
            "\n",
            "Epoch 12: val_accuracy did not improve from 0.98438\n",
            "26/26 [==============================] - 69s 3s/step - loss: 0.9241 - accuracy: 0.9972 - val_loss: 0.9407 - val_accuracy: 0.9844 - lr: 8.0000e-06\n",
            "Epoch 12: early stopping\n"
          ]
        }
      ]
    },
    {
      "cell_type": "code",
      "source": [
        "# Evaluate the model\n",
        "test_loss, test_accuracy = model2.evaluate(test_generator)\n",
        "\n",
        "# Print results\n",
        "print(\"Training Loss: {:.4f}, Training Accuracy: {:.2f}%\".format(history2.history['loss'][-1], history2.history['accuracy'][-1] * 100))\n",
        "print(\"Test Loss: {:.4f}, Test Accuracy: {:.2f}%\".format(test_loss, test_accuracy*100))"
      ],
      "metadata": {
        "colab": {
          "base_uri": "https://localhost:8080/"
        },
        "id": "5-2sCYcXn1Jg",
        "outputId": "635c5b82-cf8d-42f7-9470-14df2651129d"
      },
      "execution_count": 23,
      "outputs": [
        {
          "output_type": "stream",
          "name": "stdout",
          "text": [
            "3/3 [==============================] - 69s 34s/step - loss: 0.9834 - accuracy: 0.9697\n",
            "Training Loss: 0.9241, Training Accuracy: 99.72%\n",
            "Test Loss: 0.9834, Test Accuracy: 96.97%\n"
          ]
        }
      ]
    },
    {
      "cell_type": "code",
      "source": [
        "generate_classification_report(model2,test_generator)"
      ],
      "metadata": {
        "colab": {
          "base_uri": "https://localhost:8080/",
          "height": 1000
        },
        "id": "HpThC5DXy46J",
        "outputId": "3cbce6d6-c2fd-488f-b427-7864728aa35e"
      },
      "execution_count": 24,
      "outputs": [
        {
          "output_type": "stream",
          "name": "stdout",
          "text": [
            "4/4 [==============================] - 2s 130ms/step\n",
            "4/4 [==============================] - 0s 106ms/step\n",
            "3/3 [==============================] - 4s 132ms/step\n"
          ]
        },
        {
          "output_type": "display_data",
          "data": {
            "text/plain": [
              "<Figure size 1000x700 with 2 Axes>"
            ],
            "image/png": "[encoded data removed]"
          },
          "metadata": {}
        },
        {
          "output_type": "stream",
          "name": "stdout",
          "text": [
            "\n",
            "Class-wise Correct and Misclassified Counts:\n",
            "Anabaena: Correct = 28, Misclassified = 2\n",
            "Microcystis: Correct = 30, Misclassified = 0\n",
            "Anabaena-coiled: Correct = 30, Misclassified = 0\n",
            "Pedastrium: Correct = 30, Misclassified = 0\n",
            "Planktothrix: Correct = 30, Misclassified = 0\n",
            "Ceratrium: Correct = 29, Misclassified = 1\n",
            "Fragillaria: Correct = 30, Misclassified = 0\n",
            "Peridinium: Correct = 26, Misclassified = 4\n",
            "Straustrum: Correct = 30, Misclassified = 0\n",
            "Cyclotella: Correct = 30, Misclassified = 0\n",
            "other: Correct = 27, Misclassified = 3\n",
            "\n",
            "Classification Report:\n",
            "              precision    recall  f1-score   support\n",
            "\n",
            "           1       0.93      0.93      0.93        30\n",
            "          12       1.00      1.00      1.00        30\n",
            "           2       0.97      1.00      0.98        30\n",
            "          25       1.00      1.00      1.00        30\n",
            "          27       1.00      1.00      1.00        30\n",
            "          43       1.00      0.97      0.98        30\n",
            "          44       1.00      1.00      1.00        30\n",
            "          46       1.00      0.87      0.93        30\n",
            "          53       1.00      1.00      1.00        30\n",
            "           9       1.00      1.00      1.00        30\n",
            "         999       0.79      0.90      0.84        30\n",
            "\n",
            "    accuracy                           0.97       330\n",
            "   macro avg       0.97      0.97      0.97       330\n",
            "weighted avg       0.97      0.97      0.97       330\n",
            "\n"
          ]
        }
      ]
    },
    {
      "cell_type": "code",
      "source": [
        "model2.save_weights('model2_weights.h5')"
      ],
      "metadata": {
        "id": "pqTabrsEn9eB"
      },
      "execution_count": 25,
      "outputs": []
    }
  ]
}